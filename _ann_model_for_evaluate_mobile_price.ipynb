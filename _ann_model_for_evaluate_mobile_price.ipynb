{
  "cells": [
    {
      "cell_type": "markdown",
      "metadata": {
        "id": "view-in-github",
        "colab_type": "text"
      },
      "source": [
        "<a href=\"https://colab.research.google.com/github/nipuniGIT/Laptop_Price_prediction_Machine_Learning_Model/blob/main/_ann_model_for_evaluate_mobile_price.ipynb\" target=\"_parent\"><img src=\"https://colab.research.google.com/assets/colab-badge.svg\" alt=\"Open In Colab\"/></a>"
      ]
    },
    {
      "cell_type": "code",
      "execution_count": null,
      "metadata": {
        "id": "sB0qog9Gs-Pt"
      },
      "outputs": [],
      "source": [
        "import pandas as pd\n",
        "from sklearn.model_selection import train_test_split\n",
        "from sklearn.preprocessing import StandardScaler\n",
        "import tensorflow as tf\n",
        "from tensorflow.keras.models import Sequential\n",
        "from tensorflow.keras.layers import Dense"
      ]
    },
    {
      "cell_type": "markdown",
      "metadata": {
        "id": "fUwAcj9uud05"
      },
      "source": [
        "**Load the data**\n"
      ]
    },
    {
      "cell_type": "code",
      "execution_count": null,
      "metadata": {
        "colab": {
          "base_uri": "https://localhost:8080/",
          "height": 73
        },
        "id": "77LDk9Vs0O1x",
        "outputId": "556b95f8-df1e-43bb-e615-78e93363574c"
      },
      "outputs": [
        {
          "data": {
            "text/html": [
              "\n",
              "     <input type=\"file\" id=\"files-8b769f26-d8e8-4002-b39e-14c42eabb2d2\" name=\"files[]\" multiple disabled\n",
              "        style=\"border:none\" />\n",
              "     <output id=\"result-8b769f26-d8e8-4002-b39e-14c42eabb2d2\">\n",
              "      Upload widget is only available when the cell has been executed in the\n",
              "      current browser session. Please rerun this cell to enable.\n",
              "      </output>\n",
              "      <script>// Copyright 2017 Google LLC\n",
              "//\n",
              "// Licensed under the Apache License, Version 2.0 (the \"License\");\n",
              "// you may not use this file except in compliance with the License.\n",
              "// You may obtain a copy of the License at\n",
              "//\n",
              "//      http://www.apache.org/licenses/LICENSE-2.0\n",
              "//\n",
              "// Unless required by applicable law or agreed to in writing, software\n",
              "// distributed under the License is distributed on an \"AS IS\" BASIS,\n",
              "// WITHOUT WARRANTIES OR CONDITIONS OF ANY KIND, either express or implied.\n",
              "// See the License for the specific language governing permissions and\n",
              "// limitations under the License.\n",
              "\n",
              "/**\n",
              " * @fileoverview Helpers for google.colab Python module.\n",
              " */\n",
              "(function(scope) {\n",
              "function span(text, styleAttributes = {}) {\n",
              "  const element = document.createElement('span');\n",
              "  element.textContent = text;\n",
              "  for (const key of Object.keys(styleAttributes)) {\n",
              "    element.style[key] = styleAttributes[key];\n",
              "  }\n",
              "  return element;\n",
              "}\n",
              "\n",
              "// Max number of bytes which will be uploaded at a time.\n",
              "const MAX_PAYLOAD_SIZE = 100 * 1024;\n",
              "\n",
              "function _uploadFiles(inputId, outputId) {\n",
              "  const steps = uploadFilesStep(inputId, outputId);\n",
              "  const outputElement = document.getElementById(outputId);\n",
              "  // Cache steps on the outputElement to make it available for the next call\n",
              "  // to uploadFilesContinue from Python.\n",
              "  outputElement.steps = steps;\n",
              "\n",
              "  return _uploadFilesContinue(outputId);\n",
              "}\n",
              "\n",
              "// This is roughly an async generator (not supported in the browser yet),\n",
              "// where there are multiple asynchronous steps and the Python side is going\n",
              "// to poll for completion of each step.\n",
              "// This uses a Promise to block the python side on completion of each step,\n",
              "// then passes the result of the previous step as the input to the next step.\n",
              "function _uploadFilesContinue(outputId) {\n",
              "  const outputElement = document.getElementById(outputId);\n",
              "  const steps = outputElement.steps;\n",
              "\n",
              "  const next = steps.next(outputElement.lastPromiseValue);\n",
              "  return Promise.resolve(next.value.promise).then((value) => {\n",
              "    // Cache the last promise value to make it available to the next\n",
              "    // step of the generator.\n",
              "    outputElement.lastPromiseValue = value;\n",
              "    return next.value.response;\n",
              "  });\n",
              "}\n",
              "\n",
              "/**\n",
              " * Generator function which is called between each async step of the upload\n",
              " * process.\n",
              " * @param {string} inputId Element ID of the input file picker element.\n",
              " * @param {string} outputId Element ID of the output display.\n",
              " * @return {!Iterable<!Object>} Iterable of next steps.\n",
              " */\n",
              "function* uploadFilesStep(inputId, outputId) {\n",
              "  const inputElement = document.getElementById(inputId);\n",
              "  inputElement.disabled = false;\n",
              "\n",
              "  const outputElement = document.getElementById(outputId);\n",
              "  outputElement.innerHTML = '';\n",
              "\n",
              "  const pickedPromise = new Promise((resolve) => {\n",
              "    inputElement.addEventListener('change', (e) => {\n",
              "      resolve(e.target.files);\n",
              "    });\n",
              "  });\n",
              "\n",
              "  const cancel = document.createElement('button');\n",
              "  inputElement.parentElement.appendChild(cancel);\n",
              "  cancel.textContent = 'Cancel upload';\n",
              "  const cancelPromise = new Promise((resolve) => {\n",
              "    cancel.onclick = () => {\n",
              "      resolve(null);\n",
              "    };\n",
              "  });\n",
              "\n",
              "  // Wait for the user to pick the files.\n",
              "  const files = yield {\n",
              "    promise: Promise.race([pickedPromise, cancelPromise]),\n",
              "    response: {\n",
              "      action: 'starting',\n",
              "    }\n",
              "  };\n",
              "\n",
              "  cancel.remove();\n",
              "\n",
              "  // Disable the input element since further picks are not allowed.\n",
              "  inputElement.disabled = true;\n",
              "\n",
              "  if (!files) {\n",
              "    return {\n",
              "      response: {\n",
              "        action: 'complete',\n",
              "      }\n",
              "    };\n",
              "  }\n",
              "\n",
              "  for (const file of files) {\n",
              "    const li = document.createElement('li');\n",
              "    li.append(span(file.name, {fontWeight: 'bold'}));\n",
              "    li.append(span(\n",
              "        `(${file.type || 'n/a'}) - ${file.size} bytes, ` +\n",
              "        `last modified: ${\n",
              "            file.lastModifiedDate ? file.lastModifiedDate.toLocaleDateString() :\n",
              "                                    'n/a'} - `));\n",
              "    const percent = span('0% done');\n",
              "    li.appendChild(percent);\n",
              "\n",
              "    outputElement.appendChild(li);\n",
              "\n",
              "    const fileDataPromise = new Promise((resolve) => {\n",
              "      const reader = new FileReader();\n",
              "      reader.onload = (e) => {\n",
              "        resolve(e.target.result);\n",
              "      };\n",
              "      reader.readAsArrayBuffer(file);\n",
              "    });\n",
              "    // Wait for the data to be ready.\n",
              "    let fileData = yield {\n",
              "      promise: fileDataPromise,\n",
              "      response: {\n",
              "        action: 'continue',\n",
              "      }\n",
              "    };\n",
              "\n",
              "    // Use a chunked sending to avoid message size limits. See b/62115660.\n",
              "    let position = 0;\n",
              "    do {\n",
              "      const length = Math.min(fileData.byteLength - position, MAX_PAYLOAD_SIZE);\n",
              "      const chunk = new Uint8Array(fileData, position, length);\n",
              "      position += length;\n",
              "\n",
              "      const base64 = btoa(String.fromCharCode.apply(null, chunk));\n",
              "      yield {\n",
              "        response: {\n",
              "          action: 'append',\n",
              "          file: file.name,\n",
              "          data: base64,\n",
              "        },\n",
              "      };\n",
              "\n",
              "      let percentDone = fileData.byteLength === 0 ?\n",
              "          100 :\n",
              "          Math.round((position / fileData.byteLength) * 100);\n",
              "      percent.textContent = `${percentDone}% done`;\n",
              "\n",
              "    } while (position < fileData.byteLength);\n",
              "  }\n",
              "\n",
              "  // All done.\n",
              "  yield {\n",
              "    response: {\n",
              "      action: 'complete',\n",
              "    }\n",
              "  };\n",
              "}\n",
              "\n",
              "scope.google = scope.google || {};\n",
              "scope.google.colab = scope.google.colab || {};\n",
              "scope.google.colab._files = {\n",
              "  _uploadFiles,\n",
              "  _uploadFilesContinue,\n",
              "};\n",
              "})(self);\n",
              "</script> "
            ],
            "text/plain": [
              "<IPython.core.display.HTML object>"
            ]
          },
          "metadata": {},
          "output_type": "display_data"
        },
        {
          "name": "stdout",
          "output_type": "stream",
          "text": [
            "Saving Mobile_Price_Classification-220531-204702.csv to Mobile_Price_Classification-220531-204702 (2).csv\n"
          ]
        }
      ],
      "source": [
        "from google.colab import files\n",
        "uploaded = files.upload()\n",
        "\n",
        "file_name = list(uploaded.keys())[0]\n",
        "data = pd.read_csv(\"Mobile_Price_Classification-220531-204702.csv\")"
      ]
    },
    {
      "cell_type": "markdown",
      "metadata": {
        "id": "ePxmruwJ0acG"
      },
      "source": [
        "**Split** the data into features (X) and target (y)"
      ]
    },
    {
      "cell_type": "code",
      "execution_count": null,
      "metadata": {
        "id": "ipsEjXvC0nZg"
      },
      "outputs": [],
      "source": [
        "X = data.drop('price_range', axis=1)\n",
        "y = data['price_range']"
      ]
    },
    {
      "cell_type": "markdown",
      "metadata": {
        "id": "3QUhotN70ryg"
      },
      "source": [
        "**Normalize the features**"
      ]
    },
    {
      "cell_type": "code",
      "execution_count": null,
      "metadata": {
        "id": "2v8bgIzg01UJ"
      },
      "outputs": [],
      "source": [
        "scaler = StandardScaler()\n",
        "X_scaled = scaler.fit_transform(X)"
      ]
    },
    {
      "cell_type": "markdown",
      "metadata": {
        "id": "-nXm4LB006YR"
      },
      "source": [
        "**Split the data into training and testing sets**"
      ]
    },
    {
      "cell_type": "code",
      "execution_count": null,
      "metadata": {
        "id": "iIKfinW40-gw"
      },
      "outputs": [],
      "source": [
        "X_train, X_test, y_train, y_test = train_test_split(X_scaled, y, test_size=0.25, random_state=42)\n"
      ]
    },
    {
      "cell_type": "markdown",
      "metadata": {
        "id": "tfsMH0Rs1D_O"
      },
      "source": [
        "**Build the ANN model**"
      ]
    },
    {
      "cell_type": "code",
      "execution_count": null,
      "metadata": {
        "id": "Hw_7yuxv1Ajs"
      },
      "outputs": [],
      "source": [
        "model = Sequential()\n",
        "model.add(Dense(8, input_dim=X_train.shape[1], activation='relu'))\n",
        "model.add(Dense(4, activation='relu'))\n",
        "model.add(Dense(1, activation='sigmoid'))"
      ]
    },
    {
      "cell_type": "markdown",
      "metadata": {
        "id": "ybFu303Q1LN3"
      },
      "source": [
        "**Compile the model**"
      ]
    },
    {
      "cell_type": "code",
      "execution_count": null,
      "metadata": {
        "id": "27HgTytt1Ri6"
      },
      "outputs": [],
      "source": [
        "model.compile(optimizer='adam', loss='binary_crossentropy', metrics=['accuracy'])"
      ]
    },
    {
      "cell_type": "markdown",
      "metadata": {
        "id": "mvoEe5_T1W1v"
      },
      "source": [
        "**Train the model**"
      ]
    },
    {
      "cell_type": "code",
      "execution_count": null,
      "metadata": {
        "colab": {
          "background_save": true,
          "base_uri": "https://localhost:8080/"
        },
        "id": "O3TXII1m1bma",
        "outputId": "f6d8732b-7ef7-4bb6-9742-ff336a13aa41"
      },
      "outputs": [
        {
          "name": "stdout",
          "output_type": "stream",
          "text": [
            "Epoch 1/100\n",
            "47/47 [==============================] - 1s 7ms/step - loss: 0.8028 - accuracy: 0.4833 - val_loss: 0.7331 - val_accuracy: 0.5320\n",
            "Epoch 2/100\n",
            "47/47 [==============================] - 0s 4ms/step - loss: 0.7293 - accuracy: 0.5053 - val_loss: 0.6952 - val_accuracy: 0.5440\n",
            "Epoch 3/100\n",
            "47/47 [==============================] - 0s 3ms/step - loss: 0.7009 - accuracy: 0.5280 - val_loss: 0.6785 - val_accuracy: 0.5620\n",
            "Epoch 4/100\n",
            "47/47 [==============================] - 0s 4ms/step - loss: 0.6854 - accuracy: 0.5607 - val_loss: 0.6702 - val_accuracy: 0.6000\n",
            "Epoch 5/100\n",
            "47/47 [==============================] - 0s 4ms/step - loss: 0.6755 - accuracy: 0.5860 - val_loss: 0.6648 - val_accuracy: 0.6320\n",
            "Epoch 6/100\n",
            "47/47 [==============================] - 0s 3ms/step - loss: 0.6680 - accuracy: 0.6080 - val_loss: 0.6593 - val_accuracy: 0.6300\n",
            "Epoch 7/100\n",
            "47/47 [==============================] - 0s 4ms/step - loss: 0.6595 - accuracy: 0.6153 - val_loss: 0.6533 - val_accuracy: 0.6480\n",
            "Epoch 8/100\n",
            "47/47 [==============================] - 0s 7ms/step - loss: 0.6517 - accuracy: 0.6367 - val_loss: 0.6470 - val_accuracy: 0.6440\n",
            "Epoch 9/100\n",
            "47/47 [==============================] - 0s 6ms/step - loss: 0.6435 - accuracy: 0.6433 - val_loss: 0.6402 - val_accuracy: 0.6580\n",
            "Epoch 10/100\n",
            "47/47 [==============================] - 0s 5ms/step - loss: 0.6346 - accuracy: 0.6507 - val_loss: 0.6317 - val_accuracy: 0.6600\n",
            "Epoch 11/100\n",
            "47/47 [==============================] - 0s 6ms/step - loss: 0.6241 - accuracy: 0.6573 - val_loss: 0.6236 - val_accuracy: 0.6560\n",
            "Epoch 12/100\n",
            "47/47 [==============================] - 0s 6ms/step - loss: 0.6135 - accuracy: 0.6640 - val_loss: 0.6164 - val_accuracy: 0.6520\n",
            "Epoch 13/100\n",
            "47/47 [==============================] - 0s 7ms/step - loss: 0.6047 - accuracy: 0.6660 - val_loss: 0.6107 - val_accuracy: 0.6420\n",
            "Epoch 14/100\n",
            "47/47 [==============================] - 0s 8ms/step - loss: 0.5975 - accuracy: 0.6713 - val_loss: 0.6068 - val_accuracy: 0.6480\n",
            "Epoch 15/100\n",
            "47/47 [==============================] - 0s 6ms/step - loss: 0.5924 - accuracy: 0.6700 - val_loss: 0.6042 - val_accuracy: 0.6480\n",
            "Epoch 16/100\n",
            "47/47 [==============================] - 0s 6ms/step - loss: 0.5881 - accuracy: 0.6647 - val_loss: 0.6019 - val_accuracy: 0.6540\n",
            "Epoch 17/100\n",
            "47/47 [==============================] - 0s 8ms/step - loss: 0.5852 - accuracy: 0.6720 - val_loss: 0.6004 - val_accuracy: 0.6440\n",
            "Epoch 18/100\n",
            "47/47 [==============================] - 0s 7ms/step - loss: 0.5827 - accuracy: 0.6700 - val_loss: 0.6002 - val_accuracy: 0.6440\n",
            "Epoch 19/100\n",
            "47/47 [==============================] - 0s 5ms/step - loss: 0.5802 - accuracy: 0.6693 - val_loss: 0.5989 - val_accuracy: 0.6420\n",
            "Epoch 20/100\n",
            "47/47 [==============================] - 0s 4ms/step - loss: 0.5783 - accuracy: 0.6680 - val_loss: 0.5984 - val_accuracy: 0.6380\n",
            "Epoch 21/100\n",
            "47/47 [==============================] - 0s 4ms/step - loss: 0.5767 - accuracy: 0.6727 - val_loss: 0.5984 - val_accuracy: 0.6420\n",
            "Epoch 22/100\n",
            "47/47 [==============================] - 0s 4ms/step - loss: 0.5752 - accuracy: 0.6707 - val_loss: 0.5983 - val_accuracy: 0.6420\n",
            "Epoch 23/100\n",
            "47/47 [==============================] - 0s 4ms/step - loss: 0.5737 - accuracy: 0.6713 - val_loss: 0.5975 - val_accuracy: 0.6440\n",
            "Epoch 24/100\n",
            "47/47 [==============================] - 0s 3ms/step - loss: 0.5729 - accuracy: 0.6713 - val_loss: 0.5979 - val_accuracy: 0.6420\n",
            "Epoch 25/100\n",
            "47/47 [==============================] - 0s 4ms/step - loss: 0.5714 - accuracy: 0.6713 - val_loss: 0.5979 - val_accuracy: 0.6420\n",
            "Epoch 26/100\n",
            "47/47 [==============================] - 0s 4ms/step - loss: 0.5705 - accuracy: 0.6733 - val_loss: 0.5977 - val_accuracy: 0.6440\n",
            "Epoch 27/100\n",
            "47/47 [==============================] - 0s 5ms/step - loss: 0.5700 - accuracy: 0.6753 - val_loss: 0.5981 - val_accuracy: 0.6440\n",
            "Epoch 28/100\n",
            "47/47 [==============================] - 0s 4ms/step - loss: 0.5689 - accuracy: 0.6780 - val_loss: 0.5982 - val_accuracy: 0.6480\n",
            "Epoch 29/100\n",
            "47/47 [==============================] - 0s 4ms/step - loss: 0.5678 - accuracy: 0.6787 - val_loss: 0.5981 - val_accuracy: 0.6460\n",
            "Epoch 30/100\n",
            "47/47 [==============================] - 0s 4ms/step - loss: 0.5668 - accuracy: 0.6773 - val_loss: 0.5976 - val_accuracy: 0.6520\n",
            "Epoch 31/100\n",
            "47/47 [==============================] - 0s 4ms/step - loss: 0.5663 - accuracy: 0.6793 - val_loss: 0.5979 - val_accuracy: 0.6480\n",
            "Epoch 32/100\n",
            "47/47 [==============================] - 0s 6ms/step - loss: 0.5654 - accuracy: 0.6780 - val_loss: 0.5984 - val_accuracy: 0.6480\n",
            "Epoch 33/100\n",
            "47/47 [==============================] - 0s 5ms/step - loss: 0.5642 - accuracy: 0.6767 - val_loss: 0.5981 - val_accuracy: 0.6500\n",
            "Epoch 34/100\n",
            "47/47 [==============================] - 0s 4ms/step - loss: 0.5631 - accuracy: 0.6807 - val_loss: 0.5988 - val_accuracy: 0.6500\n",
            "Epoch 35/100\n",
            "47/47 [==============================] - 0s 5ms/step - loss: 0.5618 - accuracy: 0.6820 - val_loss: 0.5990 - val_accuracy: 0.6420\n",
            "Epoch 36/100\n",
            "47/47 [==============================] - 0s 6ms/step - loss: 0.5607 - accuracy: 0.6820 - val_loss: 0.5991 - val_accuracy: 0.6480\n",
            "Epoch 37/100\n",
            "47/47 [==============================] - 0s 4ms/step - loss: 0.5596 - accuracy: 0.6813 - val_loss: 0.5992 - val_accuracy: 0.6400\n",
            "Epoch 38/100\n",
            "47/47 [==============================] - 0s 4ms/step - loss: 0.5586 - accuracy: 0.6827 - val_loss: 0.5988 - val_accuracy: 0.6400\n",
            "Epoch 39/100\n",
            "47/47 [==============================] - 0s 4ms/step - loss: 0.5574 - accuracy: 0.6807 - val_loss: 0.5987 - val_accuracy: 0.6360\n",
            "Epoch 40/100\n",
            "47/47 [==============================] - 0s 5ms/step - loss: 0.5570 - accuracy: 0.6833 - val_loss: 0.5993 - val_accuracy: 0.6400\n",
            "Epoch 41/100\n",
            "47/47 [==============================] - 0s 4ms/step - loss: 0.5556 - accuracy: 0.6880 - val_loss: 0.5992 - val_accuracy: 0.6440\n",
            "Epoch 42/100\n",
            "47/47 [==============================] - 0s 5ms/step - loss: 0.5550 - accuracy: 0.6853 - val_loss: 0.5996 - val_accuracy: 0.6420\n",
            "Epoch 43/100\n",
            "47/47 [==============================] - 0s 4ms/step - loss: 0.5540 - accuracy: 0.6867 - val_loss: 0.5995 - val_accuracy: 0.6400\n",
            "Epoch 44/100\n",
            "47/47 [==============================] - 0s 4ms/step - loss: 0.5532 - accuracy: 0.6860 - val_loss: 0.5992 - val_accuracy: 0.6440\n",
            "Epoch 45/100\n",
            "47/47 [==============================] - 0s 5ms/step - loss: 0.5524 - accuracy: 0.6853 - val_loss: 0.5999 - val_accuracy: 0.6420\n",
            "Epoch 46/100\n",
            "47/47 [==============================] - 0s 5ms/step - loss: 0.5518 - accuracy: 0.6867 - val_loss: 0.5998 - val_accuracy: 0.6440\n",
            "Epoch 47/100\n",
            "47/47 [==============================] - 0s 4ms/step - loss: 0.5506 - accuracy: 0.6887 - val_loss: 0.6002 - val_accuracy: 0.6440\n",
            "Epoch 48/100\n",
            "47/47 [==============================] - 0s 3ms/step - loss: 0.5498 - accuracy: 0.6900 - val_loss: 0.6002 - val_accuracy: 0.6420\n",
            "Epoch 49/100\n",
            "47/47 [==============================] - 0s 3ms/step - loss: 0.5492 - accuracy: 0.6833 - val_loss: 0.5999 - val_accuracy: 0.6440\n",
            "Epoch 50/100\n",
            "47/47 [==============================] - 0s 5ms/step - loss: 0.5479 - accuracy: 0.6867 - val_loss: 0.6011 - val_accuracy: 0.6420\n",
            "Epoch 51/100\n",
            "47/47 [==============================] - 0s 3ms/step - loss: 0.5478 - accuracy: 0.6900 - val_loss: 0.6003 - val_accuracy: 0.6420\n",
            "Epoch 52/100\n",
            "47/47 [==============================] - 0s 4ms/step - loss: 0.5466 - accuracy: 0.6927 - val_loss: 0.6014 - val_accuracy: 0.6420\n",
            "Epoch 53/100\n",
            "47/47 [==============================] - 0s 3ms/step - loss: 0.5458 - accuracy: 0.6887 - val_loss: 0.6018 - val_accuracy: 0.6440\n",
            "Epoch 54/100\n",
            "47/47 [==============================] - 0s 3ms/step - loss: 0.5450 - accuracy: 0.6900 - val_loss: 0.6016 - val_accuracy: 0.6460\n",
            "Epoch 55/100\n",
            "47/47 [==============================] - 0s 4ms/step - loss: 0.5437 - accuracy: 0.6893 - val_loss: 0.6024 - val_accuracy: 0.6500\n",
            "Epoch 56/100\n",
            "47/47 [==============================] - 0s 4ms/step - loss: 0.5430 - accuracy: 0.6920 - val_loss: 0.6026 - val_accuracy: 0.6500\n",
            "Epoch 57/100\n",
            "47/47 [==============================] - 0s 4ms/step - loss: 0.5420 - accuracy: 0.6927 - val_loss: 0.6038 - val_accuracy: 0.6500\n",
            "Epoch 58/100\n",
            "47/47 [==============================] - 0s 4ms/step - loss: 0.5418 - accuracy: 0.6947 - val_loss: 0.6032 - val_accuracy: 0.6520\n",
            "Epoch 59/100\n",
            "47/47 [==============================] - 0s 4ms/step - loss: 0.5403 - accuracy: 0.6960 - val_loss: 0.6041 - val_accuracy: 0.6540\n",
            "Epoch 60/100\n",
            "47/47 [==============================] - 0s 4ms/step - loss: 0.5398 - accuracy: 0.6927 - val_loss: 0.6038 - val_accuracy: 0.6560\n",
            "Epoch 61/100\n",
            "47/47 [==============================] - 0s 5ms/step - loss: 0.5385 - accuracy: 0.6953 - val_loss: 0.6047 - val_accuracy: 0.6560\n",
            "Epoch 62/100\n",
            "47/47 [==============================] - 0s 4ms/step - loss: 0.5373 - accuracy: 0.6960 - val_loss: 0.6040 - val_accuracy: 0.6560\n",
            "Epoch 63/100\n",
            "47/47 [==============================] - 0s 3ms/step - loss: 0.5365 - accuracy: 0.6987 - val_loss: 0.6047 - val_accuracy: 0.6560\n",
            "Epoch 64/100\n",
            "47/47 [==============================] - 0s 4ms/step - loss: 0.5356 - accuracy: 0.7027 - val_loss: 0.6044 - val_accuracy: 0.6560\n",
            "Epoch 65/100\n",
            "47/47 [==============================] - 0s 5ms/step - loss: 0.5351 - accuracy: 0.6980 - val_loss: 0.6055 - val_accuracy: 0.6540\n",
            "Epoch 66/100\n",
            "47/47 [==============================] - 0s 4ms/step - loss: 0.5341 - accuracy: 0.7027 - val_loss: 0.6047 - val_accuracy: 0.6600\n",
            "Epoch 67/100\n",
            "47/47 [==============================] - 0s 4ms/step - loss: 0.5334 - accuracy: 0.6993 - val_loss: 0.6057 - val_accuracy: 0.6600\n",
            "Epoch 68/100\n",
            "47/47 [==============================] - 0s 6ms/step - loss: 0.5325 - accuracy: 0.7053 - val_loss: 0.6059 - val_accuracy: 0.6520\n",
            "Epoch 69/100\n",
            "47/47 [==============================] - 0s 7ms/step - loss: 0.5313 - accuracy: 0.7053 - val_loss: 0.6061 - val_accuracy: 0.6520\n",
            "Epoch 70/100\n",
            "47/47 [==============================] - 0s 6ms/step - loss: 0.5306 - accuracy: 0.7093 - val_loss: 0.6073 - val_accuracy: 0.6520\n",
            "Epoch 71/100\n",
            "47/47 [==============================] - 0s 6ms/step - loss: 0.5295 - accuracy: 0.7087 - val_loss: 0.6076 - val_accuracy: 0.6560\n",
            "Epoch 72/100\n",
            "47/47 [==============================] - 0s 5ms/step - loss: 0.5288 - accuracy: 0.7093 - val_loss: 0.6090 - val_accuracy: 0.6520\n",
            "Epoch 73/100\n",
            "47/47 [==============================] - 0s 7ms/step - loss: 0.5280 - accuracy: 0.7060 - val_loss: 0.6080 - val_accuracy: 0.6520\n",
            "Epoch 74/100\n",
            "47/47 [==============================] - 0s 6ms/step - loss: 0.5270 - accuracy: 0.7113 - val_loss: 0.6095 - val_accuracy: 0.6520\n",
            "Epoch 75/100\n",
            "47/47 [==============================] - 0s 6ms/step - loss: 0.5262 - accuracy: 0.7113 - val_loss: 0.6080 - val_accuracy: 0.6560\n",
            "Epoch 76/100\n",
            "47/47 [==============================] - 0s 7ms/step - loss: 0.5251 - accuracy: 0.7153 - val_loss: 0.6096 - val_accuracy: 0.6600\n",
            "Epoch 77/100\n",
            "47/47 [==============================] - 0s 5ms/step - loss: 0.5241 - accuracy: 0.7173 - val_loss: 0.6106 - val_accuracy: 0.6620\n",
            "Epoch 78/100\n",
            "47/47 [==============================] - 0s 7ms/step - loss: 0.5230 - accuracy: 0.7187 - val_loss: 0.6102 - val_accuracy: 0.6580\n",
            "Epoch 79/100\n",
            "47/47 [==============================] - 0s 6ms/step - loss: 0.5222 - accuracy: 0.7140 - val_loss: 0.6097 - val_accuracy: 0.6580\n",
            "Epoch 80/100\n",
            "47/47 [==============================] - 0s 6ms/step - loss: 0.5216 - accuracy: 0.7153 - val_loss: 0.6099 - val_accuracy: 0.6640\n",
            "Epoch 81/100\n",
            "47/47 [==============================] - 0s 3ms/step - loss: 0.5202 - accuracy: 0.7193 - val_loss: 0.6102 - val_accuracy: 0.6620\n",
            "Epoch 82/100\n",
            "47/47 [==============================] - 0s 4ms/step - loss: 0.5192 - accuracy: 0.7180 - val_loss: 0.6119 - val_accuracy: 0.6580\n",
            "Epoch 83/100\n",
            "47/47 [==============================] - 0s 4ms/step - loss: 0.5179 - accuracy: 0.7213 - val_loss: 0.6115 - val_accuracy: 0.6560\n",
            "Epoch 84/100\n",
            "47/47 [==============================] - 0s 3ms/step - loss: 0.5170 - accuracy: 0.7220 - val_loss: 0.6131 - val_accuracy: 0.6580\n",
            "Epoch 85/100\n",
            "47/47 [==============================] - 0s 6ms/step - loss: 0.5158 - accuracy: 0.7253 - val_loss: 0.6128 - val_accuracy: 0.6540\n",
            "Epoch 86/100\n",
            "47/47 [==============================] - 0s 3ms/step - loss: 0.5154 - accuracy: 0.7260 - val_loss: 0.6120 - val_accuracy: 0.6540\n",
            "Epoch 87/100\n",
            "47/47 [==============================] - 0s 4ms/step - loss: 0.5138 - accuracy: 0.7300 - val_loss: 0.6119 - val_accuracy: 0.6600\n",
            "Epoch 88/100\n",
            "47/47 [==============================] - 0s 4ms/step - loss: 0.5131 - accuracy: 0.7307 - val_loss: 0.6126 - val_accuracy: 0.6580\n",
            "Epoch 89/100\n",
            "47/47 [==============================] - 0s 4ms/step - loss: 0.5118 - accuracy: 0.7280 - val_loss: 0.6139 - val_accuracy: 0.6580\n",
            "Epoch 90/100\n",
            "47/47 [==============================] - 0s 4ms/step - loss: 0.5110 - accuracy: 0.7287 - val_loss: 0.6141 - val_accuracy: 0.6600\n",
            "Epoch 91/100\n",
            "47/47 [==============================] - 0s 3ms/step - loss: 0.5099 - accuracy: 0.7327 - val_loss: 0.6135 - val_accuracy: 0.6600\n",
            "Epoch 92/100\n",
            "47/47 [==============================] - 0s 4ms/step - loss: 0.5094 - accuracy: 0.7320 - val_loss: 0.6151 - val_accuracy: 0.6580\n",
            "Epoch 93/100\n",
            "47/47 [==============================] - 0s 3ms/step - loss: 0.5082 - accuracy: 0.7360 - val_loss: 0.6150 - val_accuracy: 0.6620\n",
            "Epoch 94/100\n",
            "47/47 [==============================] - 0s 4ms/step - loss: 0.5075 - accuracy: 0.7347 - val_loss: 0.6145 - val_accuracy: 0.6640\n",
            "Epoch 95/100\n",
            "47/47 [==============================] - 0s 5ms/step - loss: 0.5067 - accuracy: 0.7340 - val_loss: 0.6158 - val_accuracy: 0.6620\n",
            "Epoch 96/100\n",
            "47/47 [==============================] - 0s 3ms/step - loss: 0.5052 - accuracy: 0.7360 - val_loss: 0.6145 - val_accuracy: 0.6640\n",
            "Epoch 97/100\n",
            "47/47 [==============================] - 0s 4ms/step - loss: 0.5041 - accuracy: 0.7333 - val_loss: 0.6148 - val_accuracy: 0.6680\n",
            "Epoch 98/100\n",
            "47/47 [==============================] - 0s 3ms/step - loss: 0.5032 - accuracy: 0.7353 - val_loss: 0.6147 - val_accuracy: 0.6680\n",
            "Epoch 99/100\n",
            "47/47 [==============================] - 0s 4ms/step - loss: 0.5022 - accuracy: 0.7327 - val_loss: 0.6130 - val_accuracy: 0.6700\n",
            "Epoch 100/100\n",
            "47/47 [==============================] - 0s 4ms/step - loss: 0.5006 - accuracy: 0.7367 - val_loss: 0.6128 - val_accuracy: 0.6720\n"
          ]
        }
      ],
      "source": [
        "history = model.fit(X_train, y_train, epochs=100, batch_size=32, validation_data=(X_test, y_test))"
      ]
    },
    {
      "cell_type": "markdown",
      "metadata": {
        "id": "WRN9sjIw1iPd"
      },
      "source": [
        "Save the **weights**"
      ]
    },
    {
      "cell_type": "code",
      "execution_count": null,
      "metadata": {
        "colab": {
          "background_save": true
        },
        "id": "ndQlVW7b1nSk"
      },
      "outputs": [],
      "source": [
        "model.save_weights('mobile_price_model_weights.h5')"
      ]
    },
    {
      "cell_type": "markdown",
      "metadata": {
        "id": "6e0MaJvw14Hp"
      },
      "source": [
        "**Download the weights file**\n"
      ]
    },
    {
      "cell_type": "code",
      "execution_count": null,
      "metadata": {
        "colab": {
          "background_save": true
        },
        "id": "M6KBP-8V19ko",
        "outputId": "53f38fba-2e67-4ec8-b462-c763d4fd7b35"
      },
      "outputs": [
        {
          "data": {
            "application/javascript": [
              "\n",
              "    async function download(id, filename, size) {\n",
              "      if (!google.colab.kernel.accessAllowed) {\n",
              "        return;\n",
              "      }\n",
              "      const div = document.createElement('div');\n",
              "      const label = document.createElement('label');\n",
              "      label.textContent = `Downloading \"${filename}\": `;\n",
              "      div.appendChild(label);\n",
              "      const progress = document.createElement('progress');\n",
              "      progress.max = size;\n",
              "      div.appendChild(progress);\n",
              "      document.body.appendChild(div);\n",
              "\n",
              "      const buffers = [];\n",
              "      let downloaded = 0;\n",
              "\n",
              "      const channel = await google.colab.kernel.comms.open(id);\n",
              "      // Send a message to notify the kernel that we're ready.\n",
              "      channel.send({})\n",
              "\n",
              "      for await (const message of channel.messages) {\n",
              "        // Send a message to notify the kernel that we're ready.\n",
              "        channel.send({})\n",
              "        if (message.buffers) {\n",
              "          for (const buffer of message.buffers) {\n",
              "            buffers.push(buffer);\n",
              "            downloaded += buffer.byteLength;\n",
              "            progress.value = downloaded;\n",
              "          }\n",
              "        }\n",
              "      }\n",
              "      const blob = new Blob(buffers, {type: 'application/binary'});\n",
              "      const a = document.createElement('a');\n",
              "      a.href = window.URL.createObjectURL(blob);\n",
              "      a.download = filename;\n",
              "      div.appendChild(a);\n",
              "      a.click();\n",
              "      div.remove();\n",
              "    }\n",
              "  "
            ],
            "text/plain": [
              "<IPython.core.display.Javascript object>"
            ]
          },
          "metadata": {},
          "output_type": "display_data"
        },
        {
          "data": {
            "application/javascript": [
              "download(\"download_c1c8f95f-3bee-4aca-908e-a6845ce2caa4\", \"mobile_price_model_weights.h5\", 16648)"
            ],
            "text/plain": [
              "<IPython.core.display.Javascript object>"
            ]
          },
          "metadata": {},
          "output_type": "display_data"
        }
      ],
      "source": [
        "from google.colab import files\n",
        "files.download('mobile_price_model_weights.h5')\n"
      ]
    },
    {
      "cell_type": "code",
      "execution_count": null,
      "metadata": {
        "id": "xq09JjAP2Kri",
        "colab": {
          "base_uri": "https://localhost:8080/",
          "height": 304
        },
        "outputId": "a2243b9e-535f-4466-e0aa-652d430cdffd"
      },
      "outputs": [
        {
          "output_type": "error",
          "ename": "ValueError",
          "evalue": "mount failed",
          "traceback": [
            "\u001b[0;31m---------------------------------------------------------------------------\u001b[0m",
            "\u001b[0;31mValueError\u001b[0m                                Traceback (most recent call last)",
            "\u001b[0;32m<ipython-input-29-d5df0069828e>\u001b[0m in \u001b[0;36m<cell line: 2>\u001b[0;34m()\u001b[0m\n\u001b[1;32m      1\u001b[0m \u001b[0;32mfrom\u001b[0m \u001b[0mgoogle\u001b[0m\u001b[0;34m.\u001b[0m\u001b[0mcolab\u001b[0m \u001b[0;32mimport\u001b[0m \u001b[0mdrive\u001b[0m\u001b[0;34m\u001b[0m\u001b[0;34m\u001b[0m\u001b[0m\n\u001b[0;32m----> 2\u001b[0;31m \u001b[0mdrive\u001b[0m\u001b[0;34m.\u001b[0m\u001b[0mmount\u001b[0m\u001b[0;34m(\u001b[0m\u001b[0;34m'/content/drive'\u001b[0m\u001b[0;34m)\u001b[0m\u001b[0;34m\u001b[0m\u001b[0;34m\u001b[0m\u001b[0m\n\u001b[0m",
            "\u001b[0;32m/usr/local/lib/python3.10/dist-packages/google/colab/drive.py\u001b[0m in \u001b[0;36mmount\u001b[0;34m(mountpoint, force_remount, timeout_ms, readonly)\u001b[0m\n\u001b[1;32m     98\u001b[0m \u001b[0;32mdef\u001b[0m \u001b[0mmount\u001b[0m\u001b[0;34m(\u001b[0m\u001b[0mmountpoint\u001b[0m\u001b[0;34m,\u001b[0m \u001b[0mforce_remount\u001b[0m\u001b[0;34m=\u001b[0m\u001b[0;32mFalse\u001b[0m\u001b[0;34m,\u001b[0m \u001b[0mtimeout_ms\u001b[0m\u001b[0;34m=\u001b[0m\u001b[0;36m120000\u001b[0m\u001b[0;34m,\u001b[0m \u001b[0mreadonly\u001b[0m\u001b[0;34m=\u001b[0m\u001b[0;32mFalse\u001b[0m\u001b[0;34m)\u001b[0m\u001b[0;34m:\u001b[0m\u001b[0;34m\u001b[0m\u001b[0;34m\u001b[0m\u001b[0m\n\u001b[1;32m     99\u001b[0m   \u001b[0;34m\"\"\"Mount your Google Drive at the specified mountpoint path.\"\"\"\u001b[0m\u001b[0;34m\u001b[0m\u001b[0;34m\u001b[0m\u001b[0m\n\u001b[0;32m--> 100\u001b[0;31m   return _mount(\n\u001b[0m\u001b[1;32m    101\u001b[0m       \u001b[0mmountpoint\u001b[0m\u001b[0;34m,\u001b[0m\u001b[0;34m\u001b[0m\u001b[0;34m\u001b[0m\u001b[0m\n\u001b[1;32m    102\u001b[0m       \u001b[0mforce_remount\u001b[0m\u001b[0;34m=\u001b[0m\u001b[0mforce_remount\u001b[0m\u001b[0;34m,\u001b[0m\u001b[0;34m\u001b[0m\u001b[0;34m\u001b[0m\u001b[0m\n",
            "\u001b[0;32m/usr/local/lib/python3.10/dist-packages/google/colab/drive.py\u001b[0m in \u001b[0;36m_mount\u001b[0;34m(mountpoint, force_remount, timeout_ms, ephemeral, readonly)\u001b[0m\n\u001b[1;32m    281\u001b[0m             \u001b[0;34m'https://research.google.com/colaboratory/faq.html#drive-timeout'\u001b[0m\u001b[0;34m\u001b[0m\u001b[0;34m\u001b[0m\u001b[0m\n\u001b[1;32m    282\u001b[0m         )\n\u001b[0;32m--> 283\u001b[0;31m       \u001b[0;32mraise\u001b[0m \u001b[0mValueError\u001b[0m\u001b[0;34m(\u001b[0m\u001b[0;34m'mount failed'\u001b[0m \u001b[0;34m+\u001b[0m \u001b[0mextra_reason\u001b[0m\u001b[0;34m)\u001b[0m\u001b[0;34m\u001b[0m\u001b[0;34m\u001b[0m\u001b[0m\n\u001b[0m\u001b[1;32m    284\u001b[0m     \u001b[0;32melif\u001b[0m \u001b[0mcase\u001b[0m \u001b[0;34m==\u001b[0m \u001b[0;36m4\u001b[0m\u001b[0;34m:\u001b[0m\u001b[0;34m\u001b[0m\u001b[0;34m\u001b[0m\u001b[0m\n\u001b[1;32m    285\u001b[0m       \u001b[0;31m# Terminate the DriveFS binary before killing bash.\u001b[0m\u001b[0;34m\u001b[0m\u001b[0;34m\u001b[0m\u001b[0m\n",
            "\u001b[0;31mValueError\u001b[0m: mount failed"
          ]
        }
      ],
      "source": [
        "from google.colab import drive\n",
        "drive.mount('/content/drive')"
      ]
    }
  ],
  "metadata": {
    "colab": {
      "provenance": [],
      "authorship_tag": "ABX9TyMjFg265cwEVZNV2UV6tgUM",
      "include_colab_link": true
    },
    "kernelspec": {
      "display_name": "Python 3",
      "name": "python3"
    },
    "language_info": {
      "name": "python"
    }
  },
  "nbformat": 4,
  "nbformat_minor": 0
}